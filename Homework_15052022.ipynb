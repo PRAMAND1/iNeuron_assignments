{
 "cells": [
  {
   "cell_type": "code",
   "execution_count": 1,
   "id": "6ea0df2d",
   "metadata": {},
   "outputs": [],
   "source": [
    "s = \"this is My First Python programming class and i am learNING python string and its function\""
   ]
  },
  {
   "cell_type": "markdown",
   "id": "6cfd3166",
   "metadata": {},
   "source": [
    "1. Try to extract data from index one to index 300 with a jump of 3"
   ]
  },
  {
   "cell_type": "code",
   "execution_count": 2,
   "id": "de8cdada",
   "metadata": {},
   "outputs": [
    {
     "data": {
      "text/plain": [
       "'h   r tnrrmglsnimeNGyosi dtfco'"
      ]
     },
     "execution_count": 2,
     "metadata": {},
     "output_type": "execute_result"
    }
   ],
   "source": [
    "s[1:300:3]"
   ]
  },
  {
   "cell_type": "markdown",
   "id": "c5543bc8",
   "metadata": {},
   "source": [
    "2. Try to reverse a string without using reverse function."
   ]
  },
  {
   "cell_type": "code",
   "execution_count": 3,
   "id": "46d3000c",
   "metadata": {},
   "outputs": [
    {
     "data": {
      "text/plain": [
       "'noitcnuf sti dna gnirts nohtyp GNINrael ma i dna ssalc gnimmargorp nohtyP tsriF yM si siht'"
      ]
     },
     "execution_count": 3,
     "metadata": {},
     "output_type": "execute_result"
    }
   ],
   "source": [
    "s[::-1]"
   ]
  },
  {
   "cell_type": "markdown",
   "id": "516c4889",
   "metadata": {},
   "source": [
    "3. Try to split a string after conversion of entire string in uppercase."
   ]
  },
  {
   "cell_type": "code",
   "execution_count": 4,
   "id": "1671ac11",
   "metadata": {},
   "outputs": [],
   "source": [
    "s = s.upper()"
   ]
  },
  {
   "cell_type": "code",
   "execution_count": 5,
   "id": "7567aa4b",
   "metadata": {},
   "outputs": [
    {
     "data": {
      "text/plain": [
       "'THIS IS MY FIRST PYTHON PROGRAMMING CLASS AND I AM LEARNING PYTHON STRING AND ITS FUNCTION'"
      ]
     },
     "execution_count": 5,
     "metadata": {},
     "output_type": "execute_result"
    }
   ],
   "source": [
    "s"
   ]
  },
  {
   "cell_type": "code",
   "execution_count": 6,
   "id": "375490c5",
   "metadata": {},
   "outputs": [
    {
     "data": {
      "text/plain": [
       "['THIS',\n",
       " 'IS',\n",
       " 'MY',\n",
       " 'FIRST',\n",
       " 'PYTHON',\n",
       " 'PROGRAMMING',\n",
       " 'CLASS',\n",
       " 'AND',\n",
       " 'I',\n",
       " 'AM',\n",
       " 'LEARNING',\n",
       " 'PYTHON',\n",
       " 'STRING',\n",
       " 'AND',\n",
       " 'ITS',\n",
       " 'FUNCTION']"
      ]
     },
     "execution_count": 6,
     "metadata": {},
     "output_type": "execute_result"
    }
   ],
   "source": [
    "s.split()"
   ]
  },
  {
   "cell_type": "markdown",
   "id": "ad4edc74",
   "metadata": {},
   "source": [
    "4. Try to convert the whole string into lower case "
   ]
  },
  {
   "cell_type": "code",
   "execution_count": 7,
   "id": "bb710744",
   "metadata": {},
   "outputs": [
    {
     "data": {
      "text/plain": [
       "'this is my first python programming class and i am learning python string and its function'"
      ]
     },
     "execution_count": 7,
     "metadata": {},
     "output_type": "execute_result"
    }
   ],
   "source": [
    "s.lower()"
   ]
  },
  {
   "cell_type": "markdown",
   "id": "57ed6f27",
   "metadata": {},
   "source": [
    "5. Try to capitalize the whole string "
   ]
  },
  {
   "cell_type": "code",
   "execution_count": 8,
   "id": "0fc40168",
   "metadata": {},
   "outputs": [
    {
     "data": {
      "text/plain": [
       "'This is my first python programming class and i am learning python string and its function'"
      ]
     },
     "execution_count": 8,
     "metadata": {},
     "output_type": "execute_result"
    }
   ],
   "source": [
    "s.capitalize()"
   ]
  },
  {
   "cell_type": "markdown",
   "id": "78e185c2",
   "metadata": {},
   "source": [
    "6. Write a diference between isalnum() and isalpha()"
   ]
  },
  {
   "cell_type": "markdown",
   "id": "7509e36d",
   "metadata": {},
   "source": [
    "Ans: In python isalnum() & isalpha() are method to return in a form of Boolen for a string. Both are built-in method. If a string is having only alphabet characters, then isalpha() will return True, else will return False, on the other hand if a string is having alphabet & numeric or numeric or aplphabet, then isalnum() will return True, otherwis will return false."
   ]
  },
  {
   "cell_type": "markdown",
   "id": "55c21c38",
   "metadata": {},
   "source": [
    "#example"
   ]
  },
  {
   "cell_type": "code",
   "execution_count": 10,
   "id": "fabb669b",
   "metadata": {},
   "outputs": [],
   "source": [
    "a = 'Dipak'"
   ]
  },
  {
   "cell_type": "code",
   "execution_count": 11,
   "id": "25ff5b29",
   "metadata": {},
   "outputs": [
    {
     "data": {
      "text/plain": [
       "True"
      ]
     },
     "execution_count": 11,
     "metadata": {},
     "output_type": "execute_result"
    }
   ],
   "source": [
    "a.isalpha()"
   ]
  },
  {
   "cell_type": "code",
   "execution_count": 21,
   "id": "6d609d1e",
   "metadata": {},
   "outputs": [],
   "source": [
    "d = \"123456\""
   ]
  },
  {
   "cell_type": "code",
   "execution_count": 22,
   "id": "8b93e2ba",
   "metadata": {},
   "outputs": [
    {
     "data": {
      "text/plain": [
       "False"
      ]
     },
     "execution_count": 22,
     "metadata": {},
     "output_type": "execute_result"
    }
   ],
   "source": [
    "d.isalpha()"
   ]
  },
  {
   "cell_type": "code",
   "execution_count": 12,
   "id": "03467479",
   "metadata": {},
   "outputs": [
    {
     "data": {
      "text/plain": [
       "True"
      ]
     },
     "execution_count": 12,
     "metadata": {},
     "output_type": "execute_result"
    }
   ],
   "source": [
    "a.isalnum()"
   ]
  },
  {
   "cell_type": "code",
   "execution_count": 13,
   "id": "8554b590",
   "metadata": {},
   "outputs": [],
   "source": [
    "b = 'Dipak123'"
   ]
  },
  {
   "cell_type": "code",
   "execution_count": 14,
   "id": "39fd0660",
   "metadata": {},
   "outputs": [
    {
     "data": {
      "text/plain": [
       "True"
      ]
     },
     "execution_count": 14,
     "metadata": {},
     "output_type": "execute_result"
    }
   ],
   "source": [
    "b.isalnum()"
   ]
  },
  {
   "cell_type": "code",
   "execution_count": 16,
   "id": "4f2a39b3",
   "metadata": {},
   "outputs": [],
   "source": [
    "c = '1234'"
   ]
  },
  {
   "cell_type": "code",
   "execution_count": 17,
   "id": "db8f6b17",
   "metadata": {},
   "outputs": [
    {
     "data": {
      "text/plain": [
       "True"
      ]
     },
     "execution_count": 17,
     "metadata": {},
     "output_type": "execute_result"
    }
   ],
   "source": [
    "c.isalnum()"
   ]
  },
  {
   "cell_type": "code",
   "execution_count": 18,
   "id": "160bf6a1",
   "metadata": {},
   "outputs": [],
   "source": [
    "v = '%$&^'"
   ]
  },
  {
   "cell_type": "code",
   "execution_count": 19,
   "id": "0255443f",
   "metadata": {},
   "outputs": [
    {
     "data": {
      "text/plain": [
       "False"
      ]
     },
     "execution_count": 19,
     "metadata": {},
     "output_type": "execute_result"
    }
   ],
   "source": [
    "v.isalnum()"
   ]
  },
  {
   "cell_type": "markdown",
   "id": "c31ee7f0",
   "metadata": {},
   "source": [
    "7. Try to give an example of expand tab"
   ]
  },
  {
   "cell_type": "markdown",
   "id": "117500c6",
   "metadata": {},
   "source": [
    "Ans: In python expandtab() is used for setting up the space. For an example if we use 2 space between two characters we can increase or decrease that space."
   ]
  },
  {
   "cell_type": "markdown",
   "id": "6dc21d3f",
   "metadata": {},
   "source": [
    "Example: "
   ]
  },
  {
   "cell_type": "code",
   "execution_count": 25,
   "id": "3809d891",
   "metadata": {},
   "outputs": [],
   "source": [
    "x = \"D\\ti\\tp\\ta\\tk\""
   ]
  },
  {
   "cell_type": "code",
   "execution_count": 26,
   "id": "a9b9c50b",
   "metadata": {},
   "outputs": [
    {
     "data": {
      "text/plain": [
       "'D       i       p       a       k'"
      ]
     },
     "execution_count": 26,
     "metadata": {},
     "output_type": "execute_result"
    }
   ],
   "source": [
    "x.expandtabs()"
   ]
  },
  {
   "cell_type": "code",
   "execution_count": 27,
   "id": "be5214b5",
   "metadata": {},
   "outputs": [
    {
     "data": {
      "text/plain": [
       "'Dipak'"
      ]
     },
     "execution_count": 27,
     "metadata": {},
     "output_type": "execute_result"
    }
   ],
   "source": [
    "x.expandtabs(0)"
   ]
  },
  {
   "cell_type": "code",
   "execution_count": 28,
   "id": "69c7c4d7",
   "metadata": {},
   "outputs": [
    {
     "data": {
      "text/plain": [
       "'D              i              p              a              k'"
      ]
     },
     "execution_count": 28,
     "metadata": {},
     "output_type": "execute_result"
    }
   ],
   "source": [
    "x.expandtabs(15)"
   ]
  },
  {
   "cell_type": "markdown",
   "id": "be635944",
   "metadata": {},
   "source": [
    "8. Give an example of strip , lstrip and rstrip "
   ]
  },
  {
   "cell_type": "markdown",
   "id": "870ce65f",
   "metadata": {},
   "source": [
    "Ans: In python strip() is used to remove the space from the beginning and/or at the end of the string. lstrip() is used to remove the space from the starting of a string and rstrip() is used to remove the space at the end of the string. These all the built-in method in python."
   ]
  },
  {
   "cell_type": "markdown",
   "id": "1c5a8e18",
   "metadata": {},
   "source": [
    "Example: "
   ]
  },
  {
   "cell_type": "code",
   "execution_count": 29,
   "id": "dcb2a17c",
   "metadata": {},
   "outputs": [],
   "source": [
    "q = \"   pramand   \""
   ]
  },
  {
   "cell_type": "code",
   "execution_count": 30,
   "id": "50b9f71a",
   "metadata": {},
   "outputs": [
    {
     "data": {
      "text/plain": [
       "'pramand'"
      ]
     },
     "execution_count": 30,
     "metadata": {},
     "output_type": "execute_result"
    }
   ],
   "source": [
    "q.strip()"
   ]
  },
  {
   "cell_type": "code",
   "execution_count": 31,
   "id": "4d343324",
   "metadata": {},
   "outputs": [
    {
     "data": {
      "text/plain": [
       "'pramand   '"
      ]
     },
     "execution_count": 31,
     "metadata": {},
     "output_type": "execute_result"
    }
   ],
   "source": [
    "q.lstrip()"
   ]
  },
  {
   "cell_type": "code",
   "execution_count": 32,
   "id": "d6251387",
   "metadata": {},
   "outputs": [
    {
     "data": {
      "text/plain": [
       "'   pramand'"
      ]
     },
     "execution_count": 32,
     "metadata": {},
     "output_type": "execute_result"
    }
   ],
   "source": [
    "q.rstrip()"
   ]
  },
  {
   "cell_type": "markdown",
   "id": "71be2b15",
   "metadata": {},
   "source": [
    "9. Replace a string character by another charector by taking your own example "
   ]
  },
  {
   "cell_type": "code",
   "execution_count": 33,
   "id": "dc7d4ba1",
   "metadata": {},
   "outputs": [],
   "source": [
    "w = 'Deepak'"
   ]
  },
  {
   "cell_type": "code",
   "execution_count": 34,
   "id": "810d7c23",
   "metadata": {},
   "outputs": [
    {
     "data": {
      "text/plain": [
       "'Dipak'"
      ]
     },
     "execution_count": 34,
     "metadata": {},
     "output_type": "execute_result"
    }
   ],
   "source": [
    "w.replace('ee', 'i')"
   ]
  },
  {
   "cell_type": "markdown",
   "id": "323a833a",
   "metadata": {},
   "source": [
    "10. Try  to give a defination of string center function with an exmple "
   ]
  },
  {
   "cell_type": "markdown",
   "id": "4ecb57f3",
   "metadata": {},
   "source": [
    "Ans: In python center() is used to keep the string value in a center with some filling characters. For an example:"
   ]
  },
  {
   "cell_type": "code",
   "execution_count": 35,
   "id": "6cdafab8",
   "metadata": {},
   "outputs": [],
   "source": [
    "e = 'Dipak'"
   ]
  },
  {
   "cell_type": "code",
   "execution_count": 37,
   "id": "b2acf503",
   "metadata": {},
   "outputs": [
    {
     "data": {
      "text/plain": [
       "'***Dipak***'"
      ]
     },
     "execution_count": 37,
     "metadata": {},
     "output_type": "execute_result"
    }
   ],
   "source": [
    "e.center(11,'*')"
   ]
  },
  {
   "cell_type": "markdown",
   "id": "b0c20e0e",
   "metadata": {},
   "source": [
    "11. Write your own definition of compiler and interpretor without copy paste form internet in your own language"
   ]
  },
  {
   "cell_type": "markdown",
   "id": "3f8116ed",
   "metadata": {},
   "source": [
    "Ans: An interpreter is someone who translate the speech orally or in a sign language. Here in pyhthon itself does that work as a interpreter. We input some value in python and python interpret that into computer language i.e binary language as per ASCII table. As an interpreter(python) interprets one statement but to input a whole program we need to compile that whole programe file too, so here pyhton does the compile work also."
   ]
  },
  {
   "cell_type": "markdown",
   "id": "868aa17c",
   "metadata": {},
   "source": [
    "12. Python is a interpreted of compiled language give a clear ans with your understanding."
   ]
  },
  {
   "cell_type": "markdown",
   "id": "6b2a605b",
   "metadata": {},
   "source": [
    "Ans: A compiled program is something which can't be read by human, however istead of using machine language we use python as interpreter. Now to create a complied program its require several steps, a programer using the deveopment tool, writes a source code in a computer language and it can be stored as .py file extension. So to run a program we do not need to compiled a program seperately, python itself does all the required things from interpret to compile the program, thats why it s an interpreted and compiled language."
   ]
  },
  {
   "cell_type": "markdown",
   "id": "b637e7b7",
   "metadata": {},
   "source": [
    "13. Try to write a usecase of python with your understanding ."
   ]
  },
  {
   "cell_type": "markdown",
   "id": "afc0956b",
   "metadata": {},
   "source": [
    "Ans: -\n",
    "1. To built a 'Youtube' is originally written in python \n",
    "2. 'Dropbox' web based file hosting service is also implemented using python.\n",
    "3. To analysis Risk in banking sector python is being used."
   ]
  }
 ],
 "metadata": {
  "kernelspec": {
   "display_name": "Python 3 (ipykernel)",
   "language": "python",
   "name": "python3"
  },
  "language_info": {
   "codemirror_mode": {
    "name": "ipython",
    "version": 3
   },
   "file_extension": ".py",
   "mimetype": "text/x-python",
   "name": "python",
   "nbconvert_exporter": "python",
   "pygments_lexer": "ipython3",
   "version": "3.9.12"
  }
 },
 "nbformat": 4,
 "nbformat_minor": 5
}
